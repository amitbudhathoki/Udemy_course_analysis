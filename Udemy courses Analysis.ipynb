{
 "cells": [
  {
   "cell_type": "markdown",
   "id": "e82507fb-543f-46a9-b182-d48231dd7d57",
   "metadata": {},
   "source": [
    "# Import Libraries"
   ]
  },
  {
   "cell_type": "code",
   "execution_count": 1,
   "id": "2f6bb0ed-3397-4a52-a001-31a7a745127a",
   "metadata": {},
   "outputs": [],
   "source": [
    "import pandas as pd\n",
    "import numpy as np"
   ]
  },
  {
   "cell_type": "code",
   "execution_count": 2,
   "id": "67ad7258-4165-4a80-9eaa-91c258c8d000",
   "metadata": {},
   "outputs": [
    {
     "name": "stdout",
     "output_type": "stream",
     "text": [
      "archive\\3.1-data-sheet-udemy-courses-business-courses.csv\n",
      "archive\\3.1-data-sheet-udemy-courses-design-courses.csv\n",
      "archive\\3.1-data-sheet-udemy-courses-music-courses.csv\n",
      "archive\\3.1-data-sheet-udemy-courses-web-development.csv\n",
      "archive\\Entry Level Project Sheet - 3.1-data-sheet-udemy-courses-web-development.csv\n"
     ]
    }
   ],
   "source": [
    "import os\n",
    "for dirname, _, filenames in os.walk('archive'):\n",
    "    for filename in filenames:\n",
    "        print(os.path.join(dirname, filename))"
   ]
  },
  {
   "cell_type": "markdown",
   "id": "ca9b9d10-7ef6-4903-89d5-c95014d3eed0",
   "metadata": {},
   "source": [
    "## import other libraries"
   ]
  },
  {
   "cell_type": "code",
   "execution_count": 3,
   "id": "ca4c5420-4b21-4e40-b4ee-7ed345f5b8dd",
   "metadata": {},
   "outputs": [],
   "source": [
    "import matplotlib.pyplot as plt\n",
    "import seaborn as sns"
   ]
  },
  {
   "cell_type": "code",
   "execution_count": 4,
   "id": "9663649d-bafd-48a8-a766-dbeaa37e16d5",
   "metadata": {},
   "outputs": [
    {
     "data": {
      "text/html": [
       "<div>\n",
       "<style scoped>\n",
       "    .dataframe tbody tr th:only-of-type {\n",
       "        vertical-align: middle;\n",
       "    }\n",
       "\n",
       "    .dataframe tbody tr th {\n",
       "        vertical-align: top;\n",
       "    }\n",
       "\n",
       "    .dataframe thead th {\n",
       "        text-align: right;\n",
       "    }\n",
       "</style>\n",
       "<table border=\"1\" class=\"dataframe\">\n",
       "  <thead>\n",
       "    <tr style=\"text-align: right;\">\n",
       "      <th></th>\n",
       "      <th>course_id</th>\n",
       "      <th>course_title</th>\n",
       "      <th>url</th>\n",
       "      <th>price</th>\n",
       "      <th>num_subscribers</th>\n",
       "      <th>num_reviews</th>\n",
       "      <th>num_lectures</th>\n",
       "      <th>level</th>\n",
       "      <th>Rating</th>\n",
       "      <th>content_duration</th>\n",
       "      <th>published_timestamp</th>\n",
       "      <th>subject</th>\n",
       "    </tr>\n",
       "  </thead>\n",
       "  <tbody>\n",
       "    <tr>\n",
       "      <th>0</th>\n",
       "      <td>49798.0</td>\n",
       "      <td>Bitcoin or How I Learned to Stop Worrying and ...</td>\n",
       "      <td>https://www.udemy.com/bitcoin-or-how-i-learned...</td>\n",
       "      <td>0.0</td>\n",
       "      <td>65576.0</td>\n",
       "      <td>936.0</td>\n",
       "      <td>24.0</td>\n",
       "      <td>All Levels</td>\n",
       "      <td>0.56</td>\n",
       "      <td>8.0</td>\n",
       "      <td>2013-04-20T02:25:22Z</td>\n",
       "      <td>Business Finance</td>\n",
       "    </tr>\n",
       "    <tr>\n",
       "      <th>1</th>\n",
       "      <td>48841.0</td>\n",
       "      <td>Accounting in 60 Minutes - A Brief Introduction</td>\n",
       "      <td>https://www.udemy.com/accounting-in-60-minutes...</td>\n",
       "      <td>0.0</td>\n",
       "      <td>56659.0</td>\n",
       "      <td>4397.0</td>\n",
       "      <td>16.0</td>\n",
       "      <td>Beginner Level</td>\n",
       "      <td>0.95</td>\n",
       "      <td>1.5</td>\n",
       "      <td>2013-04-07T21:39:25Z</td>\n",
       "      <td>Business Finance</td>\n",
       "    </tr>\n",
       "    <tr>\n",
       "      <th>2</th>\n",
       "      <td>133536.0</td>\n",
       "      <td>Stock Market Investing for Beginners</td>\n",
       "      <td>https://www.udemy.com/the-beginners-guide-to-t...</td>\n",
       "      <td>0.0</td>\n",
       "      <td>50855.0</td>\n",
       "      <td>2698.0</td>\n",
       "      <td>15.0</td>\n",
       "      <td>All Levels</td>\n",
       "      <td>0.91</td>\n",
       "      <td>1.5</td>\n",
       "      <td>2013-12-25T19:53:34Z</td>\n",
       "      <td>Business Finance</td>\n",
       "    </tr>\n",
       "    <tr>\n",
       "      <th>3</th>\n",
       "      <td>151668.0</td>\n",
       "      <td>Introduction to Financial Modeling</td>\n",
       "      <td>https://www.udemy.com/financial-modeling-asimp...</td>\n",
       "      <td>0.0</td>\n",
       "      <td>29167.0</td>\n",
       "      <td>1463.0</td>\n",
       "      <td>8.0</td>\n",
       "      <td>All Levels</td>\n",
       "      <td>0.18</td>\n",
       "      <td>1.5</td>\n",
       "      <td>2014-05-27T16:22:16Z</td>\n",
       "      <td>Business Finance</td>\n",
       "    </tr>\n",
       "    <tr>\n",
       "      <th>4</th>\n",
       "      <td>648826.0</td>\n",
       "      <td>The Complete Financial Analyst Course 2017</td>\n",
       "      <td>https://www.udemy.com/the-complete-financial-a...</td>\n",
       "      <td>195.0</td>\n",
       "      <td>24481.0</td>\n",
       "      <td>2347.0</td>\n",
       "      <td>174.0</td>\n",
       "      <td>All Levels</td>\n",
       "      <td>0.37</td>\n",
       "      <td>10.0</td>\n",
       "      <td>2016-01-21T01:38:48Z</td>\n",
       "      <td>Business Finance</td>\n",
       "    </tr>\n",
       "  </tbody>\n",
       "</table>\n",
       "</div>"
      ],
      "text/plain": [
       "   course_id                                       course_title  \\\n",
       "0    49798.0  Bitcoin or How I Learned to Stop Worrying and ...   \n",
       "1    48841.0    Accounting in 60 Minutes - A Brief Introduction   \n",
       "2   133536.0               Stock Market Investing for Beginners   \n",
       "3   151668.0                 Introduction to Financial Modeling   \n",
       "4   648826.0         The Complete Financial Analyst Course 2017   \n",
       "\n",
       "                                                 url  price  num_subscribers  \\\n",
       "0  https://www.udemy.com/bitcoin-or-how-i-learned...    0.0          65576.0   \n",
       "1  https://www.udemy.com/accounting-in-60-minutes...    0.0          56659.0   \n",
       "2  https://www.udemy.com/the-beginners-guide-to-t...    0.0          50855.0   \n",
       "3  https://www.udemy.com/financial-modeling-asimp...    0.0          29167.0   \n",
       "4  https://www.udemy.com/the-complete-financial-a...  195.0          24481.0   \n",
       "\n",
       "   num_reviews  num_lectures           level  Rating  content_duration  \\\n",
       "0        936.0          24.0      All Levels    0.56               8.0   \n",
       "1       4397.0          16.0  Beginner Level    0.95               1.5   \n",
       "2       2698.0          15.0      All Levels    0.91               1.5   \n",
       "3       1463.0           8.0      All Levels    0.18               1.5   \n",
       "4       2347.0         174.0      All Levels    0.37              10.0   \n",
       "\n",
       "    published_timestamp           subject  \n",
       "0  2013-04-20T02:25:22Z  Business Finance  \n",
       "1  2013-04-07T21:39:25Z  Business Finance  \n",
       "2  2013-12-25T19:53:34Z  Business Finance  \n",
       "3  2014-05-27T16:22:16Z  Business Finance  \n",
       "4  2016-01-21T01:38:48Z  Business Finance  "
      ]
     },
     "execution_count": 4,
     "metadata": {},
     "output_type": "execute_result"
    }
   ],
   "source": [
    "df = pd.read_csv(r\"D:\\NEW PROJECTS\\Udemy courses analysis\\archive\\3.1-data-sheet-udemy-courses-business-courses.csv\", encoding=\"latin-1\")\n",
    "df.head()\n"
   ]
  },
  {
   "cell_type": "code",
   "execution_count": 5,
   "id": "2cf6123e-a58c-45f2-832f-c8c6ee7700a5",
   "metadata": {},
   "outputs": [
    {
     "name": "stdout",
     "output_type": "stream",
     "text": [
      "<class 'pandas.core.frame.DataFrame'>\n",
      "RangeIndex: 1192 entries, 0 to 1191\n",
      "Data columns (total 12 columns):\n",
      " #   Column               Non-Null Count  Dtype  \n",
      "---  ------               --------------  -----  \n",
      " 0   course_id            1191 non-null   float64\n",
      " 1   course_title         1191 non-null   object \n",
      " 2   url                  1191 non-null   object \n",
      " 3   price                1191 non-null   float64\n",
      " 4   num_subscribers      1191 non-null   float64\n",
      " 5   num_reviews          1191 non-null   float64\n",
      " 6   num_lectures         1191 non-null   float64\n",
      " 7   level                1191 non-null   object \n",
      " 8   Rating               1192 non-null   float64\n",
      " 9   content_duration     1191 non-null   float64\n",
      " 10  published_timestamp  1191 non-null   object \n",
      " 11  subject              1191 non-null   object \n",
      "dtypes: float64(7), object(5)\n",
      "memory usage: 111.9+ KB\n"
     ]
    }
   ],
   "source": [
    "df.info()\n"
   ]
  },
  {
   "cell_type": "markdown",
   "id": "46a21162-fc12-4da6-a9fd-d57f7707561e",
   "metadata": {},
   "source": [
    "### breaking down the timestamp"
   ]
  },
  {
   "cell_type": "code",
   "execution_count": 6,
   "id": "4735fedf-86cc-4b74-8988-d5cbe2f90ee7",
   "metadata": {},
   "outputs": [],
   "source": [
    "df['published_timestamp'] = pd.to_datetime(df['published_timestamp'])"
   ]
  },
  {
   "cell_type": "code",
   "execution_count": 7,
   "id": "576a7f74-7949-4efd-8c37-f18ce6309213",
   "metadata": {},
   "outputs": [
    {
     "name": "stdout",
     "output_type": "stream",
     "text": [
      "<class 'pandas.core.frame.DataFrame'>\n",
      "RangeIndex: 1192 entries, 0 to 1191\n",
      "Data columns (total 12 columns):\n",
      " #   Column               Non-Null Count  Dtype              \n",
      "---  ------               --------------  -----              \n",
      " 0   course_id            1191 non-null   float64            \n",
      " 1   course_title         1191 non-null   object             \n",
      " 2   url                  1191 non-null   object             \n",
      " 3   price                1191 non-null   float64            \n",
      " 4   num_subscribers      1191 non-null   float64            \n",
      " 5   num_reviews          1191 non-null   float64            \n",
      " 6   num_lectures         1191 non-null   float64            \n",
      " 7   level                1191 non-null   object             \n",
      " 8   Rating               1192 non-null   float64            \n",
      " 9   content_duration     1191 non-null   float64            \n",
      " 10  published_timestamp  1191 non-null   datetime64[ns, UTC]\n",
      " 11  subject              1191 non-null   object             \n",
      "dtypes: datetime64[ns, UTC](1), float64(7), object(4)\n",
      "memory usage: 111.9+ KB\n"
     ]
    }
   ],
   "source": [
    "df.info()\n"
   ]
  },
  {
   "cell_type": "code",
   "execution_count": 8,
   "id": "5350e337-d1b3-42f8-b0b7-9dae305bfc63",
   "metadata": {},
   "outputs": [
    {
     "data": {
      "text/html": [
       "<div>\n",
       "<style scoped>\n",
       "    .dataframe tbody tr th:only-of-type {\n",
       "        vertical-align: middle;\n",
       "    }\n",
       "\n",
       "    .dataframe tbody tr th {\n",
       "        vertical-align: top;\n",
       "    }\n",
       "\n",
       "    .dataframe thead th {\n",
       "        text-align: right;\n",
       "    }\n",
       "</style>\n",
       "<table border=\"1\" class=\"dataframe\">\n",
       "  <thead>\n",
       "    <tr style=\"text-align: right;\">\n",
       "      <th></th>\n",
       "      <th>course_id</th>\n",
       "      <th>course_title</th>\n",
       "      <th>url</th>\n",
       "      <th>price</th>\n",
       "      <th>num_subscribers</th>\n",
       "      <th>num_reviews</th>\n",
       "      <th>num_lectures</th>\n",
       "      <th>level</th>\n",
       "      <th>Rating</th>\n",
       "      <th>content_duration</th>\n",
       "      <th>published_timestamp</th>\n",
       "      <th>subject</th>\n",
       "    </tr>\n",
       "  </thead>\n",
       "  <tbody>\n",
       "    <tr>\n",
       "      <th>1098</th>\n",
       "      <td>849632.0</td>\n",
       "      <td>Write a Successful Business Grant Proposal</td>\n",
       "      <td>https://www.udemy.com/write-a-successful-busin...</td>\n",
       "      <td>20.0</td>\n",
       "      <td>6.0</td>\n",
       "      <td>0.0</td>\n",
       "      <td>23.0</td>\n",
       "      <td>All Levels</td>\n",
       "      <td>0.24</td>\n",
       "      <td>2.500000</td>\n",
       "      <td>2016-07-10 17:11:15+00:00</td>\n",
       "      <td>Business Finance</td>\n",
       "    </tr>\n",
       "    <tr>\n",
       "      <th>922</th>\n",
       "      <td>476880.0</td>\n",
       "      <td>Financial Model Fundamentals-Learn the Essenti...</td>\n",
       "      <td>https://www.udemy.com/financial-model-fundamen...</td>\n",
       "      <td>75.0</td>\n",
       "      <td>47.0</td>\n",
       "      <td>5.0</td>\n",
       "      <td>27.0</td>\n",
       "      <td>Intermediate Level</td>\n",
       "      <td>0.95</td>\n",
       "      <td>2.500000</td>\n",
       "      <td>2015-06-01 20:58:11+00:00</td>\n",
       "      <td>Business Finance</td>\n",
       "    </tr>\n",
       "    <tr>\n",
       "      <th>1172</th>\n",
       "      <td>975910.0</td>\n",
       "      <td>How to achieve personal transformation</td>\n",
       "      <td>https://www.udemy.com/learnhowtocreatewealth/</td>\n",
       "      <td>20.0</td>\n",
       "      <td>0.0</td>\n",
       "      <td>0.0</td>\n",
       "      <td>10.0</td>\n",
       "      <td>Beginner Level</td>\n",
       "      <td>0.47</td>\n",
       "      <td>0.533333</td>\n",
       "      <td>2016-12-22 00:28:07+00:00</td>\n",
       "      <td>Business Finance</td>\n",
       "    </tr>\n",
       "    <tr>\n",
       "      <th>700</th>\n",
       "      <td>662318.0</td>\n",
       "      <td>Learn Quickbooks to maintain books properly</td>\n",
       "      <td>https://www.udemy.com/learn-quickbooks-to-main...</td>\n",
       "      <td>20.0</td>\n",
       "      <td>241.0</td>\n",
       "      <td>5.0</td>\n",
       "      <td>26.0</td>\n",
       "      <td>All Levels</td>\n",
       "      <td>0.20</td>\n",
       "      <td>2.500000</td>\n",
       "      <td>2015-11-09 20:36:53+00:00</td>\n",
       "      <td>Business Finance</td>\n",
       "    </tr>\n",
       "    <tr>\n",
       "      <th>770</th>\n",
       "      <td>892446.0</td>\n",
       "      <td>Visualizing Data</td>\n",
       "      <td>https://www.udemy.com/visualizing-data/</td>\n",
       "      <td>40.0</td>\n",
       "      <td>149.0</td>\n",
       "      <td>2.0</td>\n",
       "      <td>63.0</td>\n",
       "      <td>Intermediate Level</td>\n",
       "      <td>0.80</td>\n",
       "      <td>6.500000</td>\n",
       "      <td>2016-07-22 13:09:03+00:00</td>\n",
       "      <td>Business Finance</td>\n",
       "    </tr>\n",
       "    <tr>\n",
       "      <th>793</th>\n",
       "      <td>73938.0</td>\n",
       "      <td>CFA Level I Workshop 2: Financial Reporting &amp; ...</td>\n",
       "      <td>https://www.udemy.com/cfa-workshop-2/</td>\n",
       "      <td>20.0</td>\n",
       "      <td>126.0</td>\n",
       "      <td>2.0</td>\n",
       "      <td>5.0</td>\n",
       "      <td>Intermediate Level</td>\n",
       "      <td>0.80</td>\n",
       "      <td>1.000000</td>\n",
       "      <td>2013-08-12 13:26:27+00:00</td>\n",
       "      <td>Business Finance</td>\n",
       "    </tr>\n",
       "  </tbody>\n",
       "</table>\n",
       "</div>"
      ],
      "text/plain": [
       "      course_id                                       course_title  \\\n",
       "1098   849632.0         Write a Successful Business Grant Proposal   \n",
       "922    476880.0  Financial Model Fundamentals-Learn the Essenti...   \n",
       "1172   975910.0             How to achieve personal transformation   \n",
       "700    662318.0        Learn Quickbooks to maintain books properly   \n",
       "770    892446.0                                   Visualizing Data   \n",
       "793     73938.0  CFA Level I Workshop 2: Financial Reporting & ...   \n",
       "\n",
       "                                                    url  price  \\\n",
       "1098  https://www.udemy.com/write-a-successful-busin...   20.0   \n",
       "922   https://www.udemy.com/financial-model-fundamen...   75.0   \n",
       "1172      https://www.udemy.com/learnhowtocreatewealth/   20.0   \n",
       "700   https://www.udemy.com/learn-quickbooks-to-main...   20.0   \n",
       "770             https://www.udemy.com/visualizing-data/   40.0   \n",
       "793               https://www.udemy.com/cfa-workshop-2/   20.0   \n",
       "\n",
       "      num_subscribers  num_reviews  num_lectures               level  Rating  \\\n",
       "1098              6.0          0.0          23.0          All Levels    0.24   \n",
       "922              47.0          5.0          27.0  Intermediate Level    0.95   \n",
       "1172              0.0          0.0          10.0      Beginner Level    0.47   \n",
       "700             241.0          5.0          26.0          All Levels    0.20   \n",
       "770             149.0          2.0          63.0  Intermediate Level    0.80   \n",
       "793             126.0          2.0           5.0  Intermediate Level    0.80   \n",
       "\n",
       "      content_duration       published_timestamp           subject  \n",
       "1098          2.500000 2016-07-10 17:11:15+00:00  Business Finance  \n",
       "922           2.500000 2015-06-01 20:58:11+00:00  Business Finance  \n",
       "1172          0.533333 2016-12-22 00:28:07+00:00  Business Finance  \n",
       "700           2.500000 2015-11-09 20:36:53+00:00  Business Finance  \n",
       "770           6.500000 2016-07-22 13:09:03+00:00  Business Finance  \n",
       "793           1.000000 2013-08-12 13:26:27+00:00  Business Finance  "
      ]
     },
     "execution_count": 8,
     "metadata": {},
     "output_type": "execute_result"
    }
   ],
   "source": [
    "df.sample(6)"
   ]
  },
  {
   "cell_type": "markdown",
   "id": "4d28b68a-c9f2-4884-bbc5-f5830fc321fb",
   "metadata": {},
   "source": [
    "### data cleaning\n",
    "#### check if duplicated"
   ]
  },
  {
   "cell_type": "code",
   "execution_count": 9,
   "id": "aff7c03b-b221-488b-af7d-85aeb91c8856",
   "metadata": {},
   "outputs": [
    {
     "data": {
      "text/html": [
       "<div>\n",
       "<style scoped>\n",
       "    .dataframe tbody tr th:only-of-type {\n",
       "        vertical-align: middle;\n",
       "    }\n",
       "\n",
       "    .dataframe tbody tr th {\n",
       "        vertical-align: top;\n",
       "    }\n",
       "\n",
       "    .dataframe thead th {\n",
       "        text-align: right;\n",
       "    }\n",
       "</style>\n",
       "<table border=\"1\" class=\"dataframe\">\n",
       "  <thead>\n",
       "    <tr style=\"text-align: right;\">\n",
       "      <th></th>\n",
       "      <th>course_id</th>\n",
       "      <th>course_title</th>\n",
       "      <th>url</th>\n",
       "      <th>price</th>\n",
       "      <th>num_subscribers</th>\n",
       "      <th>num_reviews</th>\n",
       "      <th>num_lectures</th>\n",
       "      <th>level</th>\n",
       "      <th>Rating</th>\n",
       "      <th>content_duration</th>\n",
       "      <th>published_timestamp</th>\n",
       "      <th>subject</th>\n",
       "    </tr>\n",
       "  </thead>\n",
       "  <tbody>\n",
       "  </tbody>\n",
       "</table>\n",
       "</div>"
      ],
      "text/plain": [
       "Empty DataFrame\n",
       "Columns: [course_id, course_title, url, price, num_subscribers, num_reviews, num_lectures, level, Rating, content_duration, published_timestamp, subject]\n",
       "Index: []"
      ]
     },
     "execution_count": 9,
     "metadata": {},
     "output_type": "execute_result"
    }
   ],
   "source": [
    "df[df.duplicated()]"
   ]
  },
  {
   "cell_type": "markdown",
   "id": "79e43fbd-e353-40e9-b57f-c1c1fbb48fb3",
   "metadata": {},
   "source": [
    "#### check if null"
   ]
  },
  {
   "cell_type": "code",
   "execution_count": 10,
   "id": "025e985e-1c55-436f-b309-6e7ea8167a46",
   "metadata": {},
   "outputs": [
    {
     "data": {
      "text/html": [
       "<div>\n",
       "<style scoped>\n",
       "    .dataframe tbody tr th:only-of-type {\n",
       "        vertical-align: middle;\n",
       "    }\n",
       "\n",
       "    .dataframe tbody tr th {\n",
       "        vertical-align: top;\n",
       "    }\n",
       "\n",
       "    .dataframe thead th {\n",
       "        text-align: right;\n",
       "    }\n",
       "</style>\n",
       "<table border=\"1\" class=\"dataframe\">\n",
       "  <thead>\n",
       "    <tr style=\"text-align: right;\">\n",
       "      <th></th>\n",
       "      <th>course_id</th>\n",
       "      <th>course_title</th>\n",
       "      <th>url</th>\n",
       "      <th>price</th>\n",
       "      <th>num_subscribers</th>\n",
       "      <th>num_reviews</th>\n",
       "      <th>num_lectures</th>\n",
       "      <th>level</th>\n",
       "      <th>Rating</th>\n",
       "      <th>content_duration</th>\n",
       "      <th>published_timestamp</th>\n",
       "      <th>subject</th>\n",
       "    </tr>\n",
       "  </thead>\n",
       "  <tbody>\n",
       "    <tr>\n",
       "      <th>0</th>\n",
       "      <td>NaN</td>\n",
       "      <td>NaN</td>\n",
       "      <td>NaN</td>\n",
       "      <td>NaN</td>\n",
       "      <td>NaN</td>\n",
       "      <td>NaN</td>\n",
       "      <td>NaN</td>\n",
       "      <td>NaN</td>\n",
       "      <td>NaN</td>\n",
       "      <td>NaN</td>\n",
       "      <td>NaT</td>\n",
       "      <td>NaN</td>\n",
       "    </tr>\n",
       "    <tr>\n",
       "      <th>1</th>\n",
       "      <td>NaN</td>\n",
       "      <td>NaN</td>\n",
       "      <td>NaN</td>\n",
       "      <td>NaN</td>\n",
       "      <td>NaN</td>\n",
       "      <td>NaN</td>\n",
       "      <td>NaN</td>\n",
       "      <td>NaN</td>\n",
       "      <td>NaN</td>\n",
       "      <td>NaN</td>\n",
       "      <td>NaT</td>\n",
       "      <td>NaN</td>\n",
       "    </tr>\n",
       "    <tr>\n",
       "      <th>2</th>\n",
       "      <td>NaN</td>\n",
       "      <td>NaN</td>\n",
       "      <td>NaN</td>\n",
       "      <td>NaN</td>\n",
       "      <td>NaN</td>\n",
       "      <td>NaN</td>\n",
       "      <td>NaN</td>\n",
       "      <td>NaN</td>\n",
       "      <td>NaN</td>\n",
       "      <td>NaN</td>\n",
       "      <td>NaT</td>\n",
       "      <td>NaN</td>\n",
       "    </tr>\n",
       "    <tr>\n",
       "      <th>3</th>\n",
       "      <td>NaN</td>\n",
       "      <td>NaN</td>\n",
       "      <td>NaN</td>\n",
       "      <td>NaN</td>\n",
       "      <td>NaN</td>\n",
       "      <td>NaN</td>\n",
       "      <td>NaN</td>\n",
       "      <td>NaN</td>\n",
       "      <td>NaN</td>\n",
       "      <td>NaN</td>\n",
       "      <td>NaT</td>\n",
       "      <td>NaN</td>\n",
       "    </tr>\n",
       "    <tr>\n",
       "      <th>4</th>\n",
       "      <td>NaN</td>\n",
       "      <td>NaN</td>\n",
       "      <td>NaN</td>\n",
       "      <td>NaN</td>\n",
       "      <td>NaN</td>\n",
       "      <td>NaN</td>\n",
       "      <td>NaN</td>\n",
       "      <td>NaN</td>\n",
       "      <td>NaN</td>\n",
       "      <td>NaN</td>\n",
       "      <td>NaT</td>\n",
       "      <td>NaN</td>\n",
       "    </tr>\n",
       "    <tr>\n",
       "      <th>...</th>\n",
       "      <td>...</td>\n",
       "      <td>...</td>\n",
       "      <td>...</td>\n",
       "      <td>...</td>\n",
       "      <td>...</td>\n",
       "      <td>...</td>\n",
       "      <td>...</td>\n",
       "      <td>...</td>\n",
       "      <td>...</td>\n",
       "      <td>...</td>\n",
       "      <td>...</td>\n",
       "      <td>...</td>\n",
       "    </tr>\n",
       "    <tr>\n",
       "      <th>1187</th>\n",
       "      <td>NaN</td>\n",
       "      <td>NaN</td>\n",
       "      <td>NaN</td>\n",
       "      <td>NaN</td>\n",
       "      <td>NaN</td>\n",
       "      <td>NaN</td>\n",
       "      <td>NaN</td>\n",
       "      <td>NaN</td>\n",
       "      <td>NaN</td>\n",
       "      <td>NaN</td>\n",
       "      <td>NaT</td>\n",
       "      <td>NaN</td>\n",
       "    </tr>\n",
       "    <tr>\n",
       "      <th>1188</th>\n",
       "      <td>NaN</td>\n",
       "      <td>NaN</td>\n",
       "      <td>NaN</td>\n",
       "      <td>NaN</td>\n",
       "      <td>NaN</td>\n",
       "      <td>NaN</td>\n",
       "      <td>NaN</td>\n",
       "      <td>NaN</td>\n",
       "      <td>NaN</td>\n",
       "      <td>NaN</td>\n",
       "      <td>NaT</td>\n",
       "      <td>NaN</td>\n",
       "    </tr>\n",
       "    <tr>\n",
       "      <th>1189</th>\n",
       "      <td>NaN</td>\n",
       "      <td>NaN</td>\n",
       "      <td>NaN</td>\n",
       "      <td>NaN</td>\n",
       "      <td>NaN</td>\n",
       "      <td>NaN</td>\n",
       "      <td>NaN</td>\n",
       "      <td>NaN</td>\n",
       "      <td>NaN</td>\n",
       "      <td>NaN</td>\n",
       "      <td>NaT</td>\n",
       "      <td>NaN</td>\n",
       "    </tr>\n",
       "    <tr>\n",
       "      <th>1190</th>\n",
       "      <td>NaN</td>\n",
       "      <td>NaN</td>\n",
       "      <td>NaN</td>\n",
       "      <td>NaN</td>\n",
       "      <td>NaN</td>\n",
       "      <td>NaN</td>\n",
       "      <td>NaN</td>\n",
       "      <td>NaN</td>\n",
       "      <td>NaN</td>\n",
       "      <td>NaN</td>\n",
       "      <td>NaT</td>\n",
       "      <td>NaN</td>\n",
       "    </tr>\n",
       "    <tr>\n",
       "      <th>1191</th>\n",
       "      <td>NaN</td>\n",
       "      <td>NaN</td>\n",
       "      <td>NaN</td>\n",
       "      <td>NaN</td>\n",
       "      <td>NaN</td>\n",
       "      <td>NaN</td>\n",
       "      <td>NaN</td>\n",
       "      <td>NaN</td>\n",
       "      <td>NaN</td>\n",
       "      <td>NaN</td>\n",
       "      <td>NaT</td>\n",
       "      <td>NaN</td>\n",
       "    </tr>\n",
       "  </tbody>\n",
       "</table>\n",
       "<p>1192 rows × 12 columns</p>\n",
       "</div>"
      ],
      "text/plain": [
       "      course_id course_title  url  price  num_subscribers  num_reviews  \\\n",
       "0           NaN          NaN  NaN    NaN              NaN          NaN   \n",
       "1           NaN          NaN  NaN    NaN              NaN          NaN   \n",
       "2           NaN          NaN  NaN    NaN              NaN          NaN   \n",
       "3           NaN          NaN  NaN    NaN              NaN          NaN   \n",
       "4           NaN          NaN  NaN    NaN              NaN          NaN   \n",
       "...         ...          ...  ...    ...              ...          ...   \n",
       "1187        NaN          NaN  NaN    NaN              NaN          NaN   \n",
       "1188        NaN          NaN  NaN    NaN              NaN          NaN   \n",
       "1189        NaN          NaN  NaN    NaN              NaN          NaN   \n",
       "1190        NaN          NaN  NaN    NaN              NaN          NaN   \n",
       "1191        NaN          NaN  NaN    NaN              NaN          NaN   \n",
       "\n",
       "      num_lectures level  Rating  content_duration published_timestamp subject  \n",
       "0              NaN   NaN     NaN               NaN                 NaT     NaN  \n",
       "1              NaN   NaN     NaN               NaN                 NaT     NaN  \n",
       "2              NaN   NaN     NaN               NaN                 NaT     NaN  \n",
       "3              NaN   NaN     NaN               NaN                 NaT     NaN  \n",
       "4              NaN   NaN     NaN               NaN                 NaT     NaN  \n",
       "...            ...   ...     ...               ...                 ...     ...  \n",
       "1187           NaN   NaN     NaN               NaN                 NaT     NaN  \n",
       "1188           NaN   NaN     NaN               NaN                 NaT     NaN  \n",
       "1189           NaN   NaN     NaN               NaN                 NaT     NaN  \n",
       "1190           NaN   NaN     NaN               NaN                 NaT     NaN  \n",
       "1191           NaN   NaN     NaN               NaN                 NaT     NaN  \n",
       "\n",
       "[1192 rows x 12 columns]"
      ]
     },
     "execution_count": 10,
     "metadata": {},
     "output_type": "execute_result"
    }
   ],
   "source": [
    "df[df.isnull()]"
   ]
  },
  {
   "cell_type": "code",
   "execution_count": 11,
   "id": "365f57c9-6d90-4425-a6e0-281c01c06cc8",
   "metadata": {},
   "outputs": [
    {
     "data": {
      "text/plain": [
       "course_id              1\n",
       "course_title           1\n",
       "url                    1\n",
       "price                  1\n",
       "num_subscribers        1\n",
       "num_reviews            1\n",
       "num_lectures           1\n",
       "level                  1\n",
       "Rating                 0\n",
       "content_duration       1\n",
       "published_timestamp    1\n",
       "subject                1\n",
       "dtype: int64"
      ]
     },
     "execution_count": 11,
     "metadata": {},
     "output_type": "execute_result"
    }
   ],
   "source": [
    "df.isnull().sum()\n"
   ]
  },
  {
   "cell_type": "code",
   "execution_count": 12,
   "id": "873789a3-2d8e-4e62-a2b9-52b8ea066312",
   "metadata": {},
   "outputs": [],
   "source": [
    "df.dropna(inplace=True)\n"
   ]
  },
  {
   "cell_type": "code",
   "execution_count": 13,
   "id": "01bf147a-67fd-4646-befd-0f2d530e37ba",
   "metadata": {},
   "outputs": [
    {
     "data": {
      "text/plain": [
       "course_id              0\n",
       "course_title           0\n",
       "url                    0\n",
       "price                  0\n",
       "num_subscribers        0\n",
       "num_reviews            0\n",
       "num_lectures           0\n",
       "level                  0\n",
       "Rating                 0\n",
       "content_duration       0\n",
       "published_timestamp    0\n",
       "subject                0\n",
       "dtype: int64"
      ]
     },
     "execution_count": 13,
     "metadata": {},
     "output_type": "execute_result"
    }
   ],
   "source": [
    "df.isnull().sum()"
   ]
  },
  {
   "cell_type": "markdown",
   "id": "24eddcea-bdd8-4be6-8423-46499342b3e6",
   "metadata": {},
   "source": [
    "### visualizing the data\n",
    "#### categorical data\n",
    "#### numerical data"
   ]
  },
  {
   "cell_type": "code",
   "execution_count": 14,
   "id": "090c8e45-0e64-4223-8468-e1508bbe0ac6",
   "metadata": {},
   "outputs": [
    {
     "name": "stdout",
     "output_type": "stream",
     "text": [
      "level\n",
      "All Levels            633\n",
      "Beginner Level        399\n",
      "Intermediate Level    134\n",
      "Expert Level           25\n",
      "Name: count, dtype: int64\n"
     ]
    }
   ],
   "source": [
    "level_count = df['level'].value_counts()\n",
    "print(level_count)"
   ]
  },
  {
   "cell_type": "markdown",
   "id": "1a37e776-36bf-4c61-9495-2bc404405dd8",
   "metadata": {},
   "source": [
    "### all courses in all level"
   ]
  },
  {
   "cell_type": "code",
   "execution_count": 15,
   "id": "acd17994-7772-481c-a005-941e08af284e",
   "metadata": {},
   "outputs": [
    {
     "data": {
      "text/plain": [
       "Text(0, 0.5, 'Counts')"
      ]
     },
     "execution_count": 15,
     "metadata": {},
     "output_type": "execute_result"
    },
    {
     "data": {
      "image/png": "[encoded data removed]",
      "text/plain": [
       "<Figure size 640x480 with 1 Axes>"
      ]
     },
     "metadata": {},
     "output_type": "display_data"
    }
   ],
   "source": [
    "plt.bar(level_count.index,level_count.values)\n",
    "plt.xlabel('Levels')\n",
    "plt.ylabel('Counts')"
   ]
  },
  {
   "cell_type": "code",
   "execution_count": 16,
   "id": "bedbba24-a0d0-47ef-8d35-8acec32c91bd",
   "metadata": {},
   "outputs": [
    {
     "data": {
      "text/plain": [
       "([<matplotlib.patches.Wedge at 0x285f70146b0>,\n",
       "  <matplotlib.patches.Wedge at 0x285f70006b0>,\n",
       "  <matplotlib.patches.Wedge at 0x285f91af200>,\n",
       "  <matplotlib.patches.Wedge at 0x285f91af830>],\n",
       " [Text(-0.1283821029759477, 1.2936452510775407, 'All Levels'),\n",
       "  Text(-0.40954098409873024, -1.2338055691005145, 'Beginner Level'),\n",
       "  Text(1.0614132895597592, -0.5598230334185358, 'Intermediate Level'),\n",
       "  Text(1.197391739418621, -0.07907605435306853, 'Expert Level')])"
      ]
     },
     "execution_count": 16,
     "metadata": {},
     "output_type": "execute_result"
    },
    {
     "data": {
      "image/png": "[encoded data removed]",
      "text/plain": [
       "<Figure size 640x480 with 1 Axes>"
      ]
     },
     "metadata": {},
     "output_type": "display_data"
    }
   ],
   "source": [
    "plt.pie(x=level_count.values,labels=level_count.index,explode=[0.2,0.2,0.1,0.1],shadow=True)"
   ]
  },
  {
   "cell_type": "code",
   "execution_count": null,
   "id": "2a59cf85-5e17-4407-8017-68fb02398039",
   "metadata": {},
   "outputs": [],
   "source": []
  }
 ],
 "metadata": {
  "kernelspec": {
   "display_name": "Python 3 (ipykernel)",
   "language": "python",
   "name": "python3"
  },
  "language_info": {
   "codemirror_mode": {
    "name": "ipython",
    "version": 3
   },
   "file_extension": ".py",
   "mimetype": "text/x-python",
   "name": "python",
   "nbconvert_exporter": "python",
   "pygments_lexer": "ipython3",
   "version": "3.12.5"
  }
 },
 "nbformat": 4,
 "nbformat_minor": 5
}
